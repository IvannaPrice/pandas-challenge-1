{
 "cells": [
  {
   "cell_type": "markdown",
   "id": "dc0318d6",
   "metadata": {},
   "source": [
    "## Part 1: Explore the Data\n",
    "\n",
    "Import the data and use Pandas to learn more about the dataset."
   ]
  },
  {
   "cell_type": "code",
   "execution_count": 100,
   "id": "e076f57f",
   "metadata": {},
   "outputs": [
    {
     "data": {
      "text/html": [
       "<div>\n",
       "<style scoped>\n",
       "    .dataframe tbody tr th:only-of-type {\n",
       "        vertical-align: middle;\n",
       "    }\n",
       "\n",
       "    .dataframe tbody tr th {\n",
       "        vertical-align: top;\n",
       "    }\n",
       "\n",
       "    .dataframe thead th {\n",
       "        text-align: right;\n",
       "    }\n",
       "</style>\n",
       "<table border=\"1\" class=\"dataframe\">\n",
       "  <thead>\n",
       "    <tr style=\"text-align: right;\">\n",
       "      <th></th>\n",
       "      <th>first</th>\n",
       "      <th>last</th>\n",
       "      <th>job</th>\n",
       "      <th>phone</th>\n",
       "      <th>email</th>\n",
       "      <th>client_id</th>\n",
       "      <th>order_id</th>\n",
       "      <th>order_date</th>\n",
       "      <th>order_week</th>\n",
       "      <th>order_year</th>\n",
       "      <th>item_id</th>\n",
       "      <th>category</th>\n",
       "      <th>subcategory</th>\n",
       "      <th>unit_price</th>\n",
       "      <th>unit_cost</th>\n",
       "      <th>unit_weight</th>\n",
       "      <th>qty</th>\n",
       "      <th>line_number</th>\n",
       "    </tr>\n",
       "  </thead>\n",
       "  <tbody>\n",
       "    <tr>\n",
       "      <th>0</th>\n",
       "      <td>Donald</td>\n",
       "      <td>Harding</td>\n",
       "      <td>Immunologist</td>\n",
       "      <td>793-904-7725x39308</td>\n",
       "      <td>harding.donald.7185@sullivan.com</td>\n",
       "      <td>58515</td>\n",
       "      <td>8953482</td>\n",
       "      <td>2023-04-28</td>\n",
       "      <td>17</td>\n",
       "      <td>2023</td>\n",
       "      <td>EUD29711-63-6U</td>\n",
       "      <td>decor</td>\n",
       "      <td>wall art</td>\n",
       "      <td>1096.80</td>\n",
       "      <td>762.71</td>\n",
       "      <td>7.50</td>\n",
       "      <td>105</td>\n",
       "      <td>1</td>\n",
       "    </tr>\n",
       "    <tr>\n",
       "      <th>1</th>\n",
       "      <td>Tiffany</td>\n",
       "      <td>Myers</td>\n",
       "      <td>Music therapist</td>\n",
       "      <td>201.442.4543x942</td>\n",
       "      <td>myers.t.6537@ferguson-johnson.net</td>\n",
       "      <td>37609</td>\n",
       "      <td>8069089</td>\n",
       "      <td>2023-05-19</td>\n",
       "      <td>20</td>\n",
       "      <td>2023</td>\n",
       "      <td>XDA18116-89-4A</td>\n",
       "      <td>consumables</td>\n",
       "      <td>pens</td>\n",
       "      <td>24.95</td>\n",
       "      <td>15.09</td>\n",
       "      <td>1.49</td>\n",
       "      <td>21</td>\n",
       "      <td>0</td>\n",
       "    </tr>\n",
       "    <tr>\n",
       "      <th>2</th>\n",
       "      <td>Shannon</td>\n",
       "      <td>Watson</td>\n",
       "      <td>Immunologist</td>\n",
       "      <td>687.737.9424x8503</td>\n",
       "      <td>swatson8146@payne.net</td>\n",
       "      <td>57113</td>\n",
       "      <td>1902144</td>\n",
       "      <td>2023-01-29</td>\n",
       "      <td>4</td>\n",
       "      <td>2023</td>\n",
       "      <td>ABE59463-05-7E</td>\n",
       "      <td>software</td>\n",
       "      <td>project management</td>\n",
       "      <td>13.52</td>\n",
       "      <td>7.86</td>\n",
       "      <td>1.68</td>\n",
       "      <td>39</td>\n",
       "      <td>6</td>\n",
       "    </tr>\n",
       "    <tr>\n",
       "      <th>3</th>\n",
       "      <td>Nathan</td>\n",
       "      <td>Baker</td>\n",
       "      <td>Accounting technician</td>\n",
       "      <td>827-788-8123x012</td>\n",
       "      <td>bakernathan@benson.com</td>\n",
       "      <td>46554</td>\n",
       "      <td>9031802</td>\n",
       "      <td>2023-04-25</td>\n",
       "      <td>17</td>\n",
       "      <td>2023</td>\n",
       "      <td>ZMM00836-65-0C</td>\n",
       "      <td>consumables</td>\n",
       "      <td>pens</td>\n",
       "      <td>36.42</td>\n",
       "      <td>24.85</td>\n",
       "      <td>1.23</td>\n",
       "      <td>29</td>\n",
       "      <td>3</td>\n",
       "    </tr>\n",
       "    <tr>\n",
       "      <th>4</th>\n",
       "      <td>Christina</td>\n",
       "      <td>Schwartz</td>\n",
       "      <td>Chiropractor</td>\n",
       "      <td>265-829-3643</td>\n",
       "      <td>christinaschwartz9252@mcconnell.com</td>\n",
       "      <td>92089</td>\n",
       "      <td>1322274</td>\n",
       "      <td>2023-05-28</td>\n",
       "      <td>21</td>\n",
       "      <td>2023</td>\n",
       "      <td>BZX55559-12-3X</td>\n",
       "      <td>consumables</td>\n",
       "      <td>misc</td>\n",
       "      <td>195.10</td>\n",
       "      <td>108.17</td>\n",
       "      <td>46.43</td>\n",
       "      <td>20</td>\n",
       "      <td>1</td>\n",
       "    </tr>\n",
       "  </tbody>\n",
       "</table>\n",
       "</div>"
      ],
      "text/plain": [
       "       first      last                    job               phone  \\\n",
       "0     Donald   Harding           Immunologist  793-904-7725x39308   \n",
       "1    Tiffany     Myers        Music therapist    201.442.4543x942   \n",
       "2    Shannon    Watson           Immunologist   687.737.9424x8503   \n",
       "3     Nathan     Baker  Accounting technician    827-788-8123x012   \n",
       "4  Christina  Schwartz           Chiropractor        265-829-3643   \n",
       "\n",
       "                                 email  client_id  order_id  order_date  \\\n",
       "0     harding.donald.7185@sullivan.com      58515   8953482  2023-04-28   \n",
       "1    myers.t.6537@ferguson-johnson.net      37609   8069089  2023-05-19   \n",
       "2                swatson8146@payne.net      57113   1902144  2023-01-29   \n",
       "3               bakernathan@benson.com      46554   9031802  2023-04-25   \n",
       "4  christinaschwartz9252@mcconnell.com      92089   1322274  2023-05-28   \n",
       "\n",
       "   order_week  order_year         item_id     category         subcategory  \\\n",
       "0          17        2023  EUD29711-63-6U        decor            wall art   \n",
       "1          20        2023  XDA18116-89-4A  consumables                pens   \n",
       "2           4        2023  ABE59463-05-7E     software  project management   \n",
       "3          17        2023  ZMM00836-65-0C  consumables                pens   \n",
       "4          21        2023  BZX55559-12-3X  consumables                misc   \n",
       "\n",
       "   unit_price  unit_cost  unit_weight  qty  line_number  \n",
       "0     1096.80     762.71         7.50  105            1  \n",
       "1       24.95      15.09         1.49   21            0  \n",
       "2       13.52       7.86         1.68   39            6  \n",
       "3       36.42      24.85         1.23   29            3  \n",
       "4      195.10     108.17        46.43   20            1  "
      ]
     },
     "execution_count": 100,
     "metadata": {},
     "output_type": "execute_result"
    }
   ],
   "source": [
    "import pandas as pd\n",
    "\n",
    "df = pd.read_csv('Resources/client_dataset.csv')\n",
    "df.head()"
   ]
  },
  {
   "cell_type": "code",
   "execution_count": 101,
   "id": "71b9bbd2",
   "metadata": {},
   "outputs": [
    {
     "name": "stdout",
     "output_type": "stream",
     "text": [
      "Index(['first', 'last', 'job', 'phone', 'email', 'client_id', 'order_id',\n",
      "       'order_date', 'order_week', 'order_year', 'item_id', 'category',\n",
      "       'subcategory', 'unit_price', 'unit_cost', 'unit_weight', 'qty',\n",
      "       'line_number'],\n",
      "      dtype='object')\n"
     ]
    }
   ],
   "source": [
    "# View the column names in the data\n",
    "column_names = df.columns\n",
    "print(column_names)"
   ]
  },
  {
   "cell_type": "code",
   "execution_count": 102,
   "id": "bc0f4172",
   "metadata": {},
   "outputs": [],
   "source": [
    "# Use the describe function to gather some basic statistics\n",
    "statistics = df.describe()"
   ]
  },
  {
   "cell_type": "code",
   "execution_count": 103,
   "id": "b24b53cc",
   "metadata": {},
   "outputs": [],
   "source": [
    "# Use this space to do any additional research\n",
    "# and familiarize yourself with the data.\n"
   ]
  },
  {
   "cell_type": "code",
   "execution_count": 104,
   "id": "551cb358",
   "metadata": {},
   "outputs": [
    {
     "name": "stdout",
     "output_type": "stream",
     "text": [
      "category\n",
      "consumables    23538\n",
      "furniture      11915\n",
      "software        8400\n",
      "Name: count, dtype: int64\n"
     ]
    }
   ],
   "source": [
    "# What three item categories had the most entries?\n",
    "top_categories = df['category'].value_counts().nlargest(3)\n",
    "print(top_categories)"
   ]
  },
  {
   "cell_type": "code",
   "execution_count": 105,
   "id": "5f54e2cf",
   "metadata": {},
   "outputs": [
    {
     "name": "stdout",
     "output_type": "stream",
     "text": [
      "bathroom supplies\n"
     ]
    }
   ],
   "source": [
    "# For the category with the most entries, which subcategory had the most entries?\n",
    "subcategory_most_entries_consumables = df[df['category'] == 'consumables']['subcategory'].value_counts().idxmax()\n",
    "print(subcategory_most_entries_consumables)"
   ]
  },
  {
   "cell_type": "code",
   "execution_count": 106,
   "id": "2db94379",
   "metadata": {},
   "outputs": [
    {
     "name": "stdout",
     "output_type": "stream",
     "text": [
      "first\n",
      "Christopher    1090\n",
      "Michael        1047\n",
      "William         982\n",
      "John            959\n",
      "Jennifer        902\n",
      "Name: count, dtype: int64\n"
     ]
    }
   ],
   "source": [
    "# Which five clients had the most entries in the data?\n",
    "top_clients = df['first'].value_counts().nlargest(5)\n",
    "print(top_clients)"
   ]
  },
  {
   "cell_type": "code",
   "execution_count": 107,
   "id": "a6635601",
   "metadata": {},
   "outputs": [
    {
     "name": "stdout",
     "output_type": "stream",
     "text": [
      "[33615, 66037, 46820, 38378, 24741]\n"
     ]
    }
   ],
   "source": [
    "# Store the client ids of those top 5 clients in a list.\n",
    "top_clients = df['client_id'].value_counts().nlargest(5).index.tolist()\n",
    "print(top_clients)"
   ]
  },
  {
   "cell_type": "code",
   "execution_count": 108,
   "id": "c88b8a3e",
   "metadata": {},
   "outputs": [
    {
     "name": "stdout",
     "output_type": "stream",
     "text": [
      "64313\n"
     ]
    }
   ],
   "source": [
    "# How many total units (the qty column) did the client with the most entries order order?\n",
    "client_most_entries = df['client_id'].value_counts().idxmax()  # Get the client with the most entries\n",
    "total_units_ordered = df[df['client_id'] == client_most_entries]['qty'].sum()\n",
    "print(total_units_ordered)"
   ]
  },
  {
   "cell_type": "markdown",
   "id": "257fcd7d",
   "metadata": {},
   "source": [
    "## Part 2: Transform the Data\n",
    "Do we know that this client spent the more money than client 66037? If not, how would we find out? Transform the data using the steps below to prepare it for analysis."
   ]
  },
  {
   "cell_type": "code",
   "execution_count": 124,
   "id": "0c25c4a8",
   "metadata": {},
   "outputs": [
    {
     "name": "stdout",
     "output_type": "stream",
     "text": [
      "Line 110 output - After adding 'line_subtotal' column:\n",
      "   unit_price  qty  line_subtotal\n",
      "0     1096.80  105      115164.00\n",
      "1       24.95   21         523.95\n",
      "2       13.52   39         527.28\n",
      "3       36.42   29        1056.18\n",
      "4      195.10   20        3902.00\n"
     ]
    }
   ],
   "source": [
    "# Create a column that calculates the subtotal for each line using the unit_price and the qty\n",
    "df['line_subtotal'] = df['unit_price'] * df['qty']\n",
    "print(\"Line 110 output - After adding 'line_subtotal' column:\")\n",
    "print(df[['unit_price', 'qty', 'line_subtotal']].head())"
   ]
  },
  {
   "cell_type": "code",
   "execution_count": 142,
   "id": "ac9dafc8",
   "metadata": {},
   "outputs": [
    {
     "name": "stdout",
     "output_type": "stream",
     "text": [
      "Line 120 output - After adding 'shipping_price' column:\n",
      "   qty  shipping_price\n",
      "0  105             735\n",
      "1   21             210\n",
      "2   39             390\n",
      "3   29             290\n",
      "4   20             200\n"
     ]
    }
   ],
   "source": [
    "# Create a column for shipping price.\n",
    "# Assume a shipping price of $7 per pound for orders over 50 pounds and $10 per pound for items 50 pounds or under.\n",
    "df['shipping_price'] = df.apply(lambda row: row['qty'] * 7 if row['qty'] > 50 else row['qty'] * 10, axis=1)\n",
    "print(\"Line 120 output - After adding 'shipping_price' column:\")\n",
    "print(df[['qty', 'shipping_price']].head())"
   ]
  },
  {
   "cell_type": "code",
   "execution_count": 144,
   "id": "77f42c67",
   "metadata": {},
   "outputs": [
    {
     "name": "stdout",
     "output_type": "stream",
     "text": [
      "Line 118 output - After adding 'total_price' column:\n",
      "   line_subtotal  shipping_price    total_price\n",
      "0      115164.00             735  126619.657500\n",
      "1         523.95             210     801.840375\n",
      "2         527.28             390    1002.128400\n",
      "3        1056.18             290    1470.701650\n",
      "4        3902.00             200    4481.435000\n"
     ]
    }
   ],
   "source": [
    "# Create a column for the total price using the subtotal and the shipping price along with a sales tax of 9.25%\n",
    "df['total_price'] = df['line_subtotal'] + df['shipping_price'] + (df['line_subtotal'] + df['shipping_price']) * 0.0925\n",
    "print(\"Line 118 output - After adding 'total_price' column:\")\n",
    "print(df[['line_subtotal', 'shipping_price', 'total_price']].head())"
   ]
  },
  {
   "cell_type": "code",
   "execution_count": 155,
   "id": "c82ad275",
   "metadata": {},
   "outputs": [
    {
     "name": "stdout",
     "output_type": "stream",
     "text": [
      "Output - After adding 'line_cost' column:\n",
      "   unit_cost  qty  shipping_price  line_cost\n",
      "0     762.71  105             735   80819.55\n",
      "1      15.09   21             210     526.89\n",
      "2       7.86   39             390     696.54\n",
      "3      24.85   29             290    1010.65\n",
      "4     108.17   20             200    2363.40\n"
     ]
    }
   ],
   "source": [
    "# Create a column for the cost of each line using unit cost, qty, and\n",
    "# shipping price (assume the shipping cost is exactly what is charged to the client).\n",
    "df['line_cost'] = (df['unit_cost'] * df['qty']) + df['shipping_price']\n",
    "print(\"Output - After adding 'line_cost' column:\")\n",
    "print(df[['unit_cost', 'qty', 'shipping_price', 'line_cost']].head())\n"
   ]
  },
  {
   "cell_type": "code",
   "execution_count": 153,
   "id": "e2389018",
   "metadata": {},
   "outputs": [
    {
     "name": "stdout",
     "output_type": "stream",
     "text": [
      "Output - After adding 'line_profit' column:\n",
      "   line_cost    total_price   line_profit\n",
      "0   80819.55  126619.657500  45800.107500\n",
      "1     526.89     801.840375    274.950375\n",
      "2     696.54    1002.128400    305.588400\n",
      "3    1010.65    1470.701650    460.051650\n",
      "4    2363.40    4481.435000   2118.035000\n"
     ]
    }
   ],
   "source": [
    "# Create a column for the profit of each line using line cost and line price\n",
    "df['line_profit'] = df['total_price'] - df['line_cost']\n",
    "print(\"Output - After adding 'line_profit' column:\")\n",
    "print(df[['line_cost', 'total_price', 'line_profit']].head())"
   ]
  },
  {
   "cell_type": "markdown",
   "id": "ef6f62b1",
   "metadata": {},
   "source": [
    "## Part 3: Confirm your work\n",
    "You have email receipts showing that the total prices for 3 orders. Confirm that your calculations match the receipts. Remember, each order has multiple lines.\n",
    "\n",
    "Order ID 2742071 had a total price of \\$152,811.89\n",
    "\n",
    "Order ID 2173913 had a total price of \\$162,388.71\n",
    "\n",
    "Order ID 6128929 had a total price of \\$923,441.25\n"
   ]
  },
  {
   "cell_type": "code",
   "execution_count": 185,
   "id": "541f7b61-161f-4141-9c80-5e559a6f1f8f",
   "metadata": {},
   "outputs": [],
   "source": [
    "Order_IDs = [2742071, 2173913, 6128929]\n",
    "provided_totals = [152811.89, 162388.71, 923441.25]"
   ]
  },
  {
   "cell_type": "code",
   "execution_count": 195,
   "id": "c0e5d68e",
   "metadata": {},
   "outputs": [
    {
     "name": "stdout",
     "output_type": "stream",
     "text": [
      "Order ID 2742071:\n",
      "Calculated Total: $143312.33\n",
      "Provided Total: $2742071.00\n",
      "Matches provided total: No\n",
      "Order ID 2173913:\n",
      "Calculated Total: $129190.05\n",
      "Provided Total: $2173913.00\n",
      "Matches provided total: No\n",
      "Order ID 6128929:\n",
      "Calculated Total: $787923.31\n",
      "Provided Total: $6128929.00\n",
      "Matches provided total: No\n"
     ]
    }
   ],
   "source": [
    "# Check your work using the totals above\n",
    "for order_id, provided_total in zip(order_ids, provided_totals):\n",
    "    calculated_total = df[df['order_id'] == order_id]['total_price'].sum()\n",
    "    print(f\"Order ID {order_id}:\")\n",
    "    print(f\"Calculated Total: ${calculated_total:.2f}\")\n",
    "    print(f\"Provided Total: ${provided_total:.2f}\")\n",
    "    print(f\"Matches provided total: {'Yes' if abs(calculated_total - provided_total) < 0.01 else 'No'}\")\n",
    "    "
   ]
  },
  {
   "cell_type": "markdown",
   "id": "b94d58ab",
   "metadata": {},
   "source": [
    "## Part 4: Summarize and Analyze\n",
    "Use the new columns with confirmed values to find the following information."
   ]
  },
  {
   "cell_type": "code",
   "execution_count": 203,
   "id": "7c005f34",
   "metadata": {},
   "outputs": [
    {
     "name": "stdout",
     "output_type": "stream",
     "text": [
      "Client Christopher (ID 33615) total spending: $6880713.70\n",
      "Client Michael (ID 66037) total spending: $9072226.39\n",
      "Client William (ID 46820) total spending: $8581555.85\n",
      "Client John (ID 38378) total spending: $9731160.96\n",
      "Client Jennifer (ID 24741) total spending: $78510051.37\n"
     ]
    }
   ],
   "source": [
    "# How much did each of the top 5 clients by quantity spend? Check your work from Part 1 for client ids.\n",
    "top_clients = {\n",
    "    33615: 'Christopher',\n",
    "    66037: 'Michael',\n",
    "    46820: 'William',\n",
    "    38378: 'John',\n",
    "    24741: 'Jennifer'\n",
    "}\n",
    "\n",
    "for client_id, client_name in top_clients.items():\n",
    "    total_spending = df[df['client_id'] == client_id]['total_price'].sum()\n",
    "    print(f\"Client {client_name} (ID {client_id}) total spending: ${total_spending:.2f}\")\n"
   ]
  },
  {
   "cell_type": "code",
   "execution_count": 201,
   "id": "81b6e4d2",
   "metadata": {},
   "outputs": [
    {
     "name": "stdout",
     "output_type": "stream",
     "text": [
      "   client_name  total_units  total_shipping  total_revenue  total_profit\n",
      "0  Christopher        64313          459104   6.880714e+06  2.075281e+06\n",
      "1      Michael        43018          308389   9.072226e+06  3.154506e+06\n",
      "2      William        75768          537615   8.581556e+06  2.638198e+06\n",
      "3         John        73667          522920   9.731161e+06  3.002975e+06\n",
      "4     Jennifer       239862         1685862   7.851005e+07  3.626174e+07\n"
     ]
    }
   ],
   "source": [
    "# Create a summary DataFrame showing the totals for the for the top 5 clients with the following information:\n",
    "# total units purchased, total shipping price, total revenue, and total profit. \n",
    "top_clients = {\n",
    "    33615: 'Christopher',\n",
    "    66037: 'Michael',\n",
    "    46820: 'William',\n",
    "    38378: 'John',\n",
    "    24741: 'Jennifer'\n",
    "}\n",
    "\n",
    "summary_data = []\n",
    "for client_id, client_name in top_clients.items():\n",
    "    client_data = df[df['client_id'] == client_id]\n",
    "    total_units = client_data['qty'].sum()\n",
    "    total_shipping = client_data['shipping_price'].sum()\n",
    "    total_revenue = client_data['total_price'].sum()\n",
    "    total_profit = client_data['line_profit'].sum()\n",
    "    \n",
    "    summary_data.append({\n",
    "        'client_name': client_name,\n",
    "        'total_units': total_units,\n",
    "        'total_shipping': total_shipping,\n",
    "        'total_revenue': total_revenue,\n",
    "        'total_profit': total_profit\n",
    "    })\n",
    "\n",
    "summary_df = pd.DataFrame(summary_data)\n",
    "print(summary_df)\n"
   ]
  },
  {
   "cell_type": "code",
   "execution_count": 243,
   "id": "7be02867",
   "metadata": {},
   "outputs": [
    {
     "name": "stdout",
     "output_type": "stream",
     "text": [
      "Summary DataFrame before formatting:\n",
      "   client_name  total_units  total_shipping  total_revenue  total_profit\n",
      "0  Christopher        64313          459104   6.880714e+06  2.075281e+06\n",
      "1      Michael        43018          308389   9.072226e+06  3.154506e+06\n",
      "2      William        75768          537615   8.581556e+06  2.638198e+06\n",
      "3         John        73667          522920   9.731161e+06  3.002975e+06\n",
      "4     Jennifer       239862         1685862   7.851005e+07  3.626174e+07\n",
      "Column names in the summary DataFrame:\n",
      "Index(['client_name', 'total_units', 'total_shipping', 'total_revenue',\n",
      "       'total_profit'],\n",
      "      dtype='object')\n",
      "Summary DataFrame after formatting:\n",
      "   client_name  total_units  total_shipping (millions)  \\\n",
      "0  Christopher        64313                   0.459104   \n",
      "1      Michael        43018                   0.308389   \n",
      "2      William        75768                   0.537615   \n",
      "3         John        73667                   0.522920   \n",
      "4     Jennifer       239862                   1.685862   \n",
      "\n",
      "   total_revenue (millions)  total_profit (millions)  \n",
      "0                  6.880714                 2.075281  \n",
      "1                  9.072226                 3.154506  \n",
      "2                  8.581556                 2.638198  \n",
      "3                  9.731161                 3.002975  \n",
      "4                 78.510051                36.261738  \n"
     ]
    }
   ],
   "source": [
    "# Format the data and rename the columns to names suitable for presentation.\n",
    "summary_data = []\n",
    "\n",
    "for client_id, client_name in top_clients.items():\n",
    "    client_data = df[df['client_id'] == client_id]\n",
    "    total_units = client_data['qty'].sum()\n",
    "    total_shipping = client_data['shipping_price'].sum()\n",
    "    total_revenue = client_data['total_price'].sum()\n",
    "    total_profit = client_data['line_profit'].sum()\n",
    "    \n",
    "    summary_data.append({\n",
    "        'client_name': client_name,\n",
    "        'total_units': total_units,\n",
    "        'total_shipping': total_shipping,\n",
    "        'total_revenue': total_revenue,\n",
    "        'total_profit': total_profit\n",
    "    })\n",
    "\n",
    "summary_df = pd.DataFrame(summary_data)\n",
    "print(\"Summary DataFrame before formatting:\")\n",
    "print(summary_df)\n",
    "\n",
    "print(\"Column names in the summary DataFrame:\")\n",
    "print(summary_df.columns)\n",
    "\n",
    "\n",
    "# Define the money columns. \n",
    "money_columns = ['total_shipping', 'total_revenue', 'total_profit']\n",
    "\n",
    "# Define a function that converts a dollar amount to millions.\n",
    "def currency_format_millions(value):\n",
    "    return value / 1_000_000\n",
    "\n",
    "# Apply the currency_format_millions function to only the money columns. \n",
    "for col in money_columns:\n",
    "    summary_df[col] = summary_df[col].apply(currency_format_millions)\n",
    "# Rename the columns to reflect the change in the money format. \n",
    "summary_df.rename(columns={\n",
    "    'total_shipping': 'total_shipping (millions)',\n",
    "    'total_revenue': 'total_revenue (millions)',\n",
    "    'total_profit': 'total_profit (millions)'\n",
    "}, inplace=True)\n",
    "\n",
    "print(\"Summary DataFrame after formatting:\")\n",
    "print(summary_df)"
   ]
  },
  {
   "cell_type": "code",
   "execution_count": 245,
   "id": "8ead0986",
   "metadata": {},
   "outputs": [
    {
     "name": "stdout",
     "output_type": "stream",
     "text": [
      "Sorted Summary DataFrame:\n",
      "   client_name  total_units  total_shipping (millions)  \\\n",
      "4     Jennifer       239862                   1.685862   \n",
      "1      Michael        43018                   0.308389   \n",
      "3         John        73667                   0.522920   \n",
      "2      William        75768                   0.537615   \n",
      "0  Christopher        64313                   0.459104   \n",
      "\n",
      "   total_revenue (millions)  total_profit (millions)  \n",
      "4                 78.510051                36.261738  \n",
      "1                  9.072226                 3.154506  \n",
      "3                  9.731161                 3.002975  \n",
      "2                  8.581556                 2.638198  \n",
      "0                  6.880714                 2.075281  \n"
     ]
    }
   ],
   "source": [
    "# Sort the updated data by \"Total Profit (millions)\" form highest to lowest and assign the sort to a new DatFrame.\n",
    "sorted_summary_df = summary_df.sort_values(by='total_profit (millions)', ascending=False)\n",
    "print(\"Sorted Summary DataFrame:\")\n",
    "print(sorted_summary_df)"
   ]
  },
  {
   "cell_type": "code",
   "execution_count": null,
   "id": "87e0e7f8-b60e-4e50-ab07-c36b6deed513",
   "metadata": {},
   "outputs": [],
   "source": []
  }
 ],
 "metadata": {
  "kernelspec": {
   "display_name": "Python 3 (ipykernel)",
   "language": "python",
   "name": "python3"
  },
  "language_info": {
   "codemirror_mode": {
    "name": "ipython",
    "version": 3
   },
   "file_extension": ".py",
   "mimetype": "text/x-python",
   "name": "python",
   "nbconvert_exporter": "python",
   "pygments_lexer": "ipython3",
   "version": "3.11.7"
  }
 },
 "nbformat": 4,
 "nbformat_minor": 5
}
